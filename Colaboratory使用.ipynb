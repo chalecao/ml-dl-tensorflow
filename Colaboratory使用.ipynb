{
  "nbformat": 4,
  "nbformat_minor": 0,
  "metadata": {
    "colab": {
      "name": "Colaboratory使用",
      "version": "0.3.2",
      "provenance": [],
      "include_colab_link": true
    },
    "kernelspec": {
      "name": "python3",
      "display_name": "Python 3"
    },
    "accelerator": "GPU"
  },
  "cells": [
    {
      "cell_type": "markdown",
      "metadata": {
        "id": "view-in-github",
        "colab_type": "text"
      },
      "source": [
        "<a href=\"https://colab.research.google.com/github/chalecao/ml-dl-tensorflow/blob/master/Colaboratory%E4%BD%BF%E7%94%A8.ipynb\" target=\"_parent\"><img src=\"https://colab.research.google.com/assets/colab-badge.svg\" alt=\"Open In Colab\"/></a>"
      ]
    },
    {
      "metadata": {
        "id": "-56sEJj9DQbe",
        "colab_type": "text"
      },
      "cell_type": "markdown",
      "source": [
        ""
      ]
    },
    {
      "metadata": {
        "id": "yrxQ9qM2DPe-",
        "colab_type": "code",
        "colab": {}
      },
      "cell_type": "code",
      "source": [
        ""
      ],
      "execution_count": 0,
      "outputs": []
    },
    {
      "metadata": {
        "id": "KdxfX-DcDcqP",
        "colab_type": "text"
      },
      "cell_type": "markdown",
      "source": [
        "# Colaboratory\n",
        "Colaboratory 是一款研究工具，用于进行机器学习培训和研究。它是一个 Jupyter 笔记本环境，不需要进行任何设置就可以使用。"
      ]
    },
    {
      "metadata": {
        "id": "LQbsmkf0OXvD",
        "colab_type": "text"
      },
      "cell_type": "markdown",
      "source": [
        " # 案例\n",
        "## 矩阵运算\n",
        "借助 Colaboratory，您只需点击一下鼠标，即可在浏览器中执行 TensorFlow 代码。下面的示例展示了两个矩阵相加的情况。\n",
        "\n",
        "$\\begin{bmatrix}\n",
        "  1. & 1. & 1. \\\\\n",
        "  1. & 1. & 1. \\\\\n",
        "\\end{bmatrix} +\n",
        "\\begin{bmatrix}\n",
        "  1. & 2. & 3. \\\\\n",
        "  4. & 5. & 6. \\\\\n",
        "\\end{bmatrix} =\n",
        "\\begin{bmatrix}\n",
        "  2. & 3. & 4. \\\\\n",
        "  5. & 6. & 7. \\\\\n",
        "\\end{bmatrix}$"
      ]
    },
    {
      "metadata": {
        "id": "fLZwsmm8OjBQ",
        "colab_type": "code",
        "outputId": "f5afae6e-a515-4967-8cf5-6c37260fb3ae",
        "colab": {
          "base_uri": "https://localhost:8080/",
          "height": 51
        }
      },
      "cell_type": "code",
      "source": [
        "import tensorflow as tf\n",
        "\n",
        "input1 = tf.ones((2, 3))\n",
        "input2 = tf.reshape(tf.range(1, 7, dtype=tf.float32), (2, 3))\n",
        "output = input1 + input2\n",
        "\n",
        "with tf.Session():\n",
        "  result = output.eval()\n",
        "result  "
      ],
      "execution_count": 0,
      "outputs": [
        {
          "output_type": "execute_result",
          "data": {
            "text/plain": [
              "array([[2., 3., 4.],\n",
              "       [5., 6., 7.]], dtype=float32)"
            ]
          },
          "metadata": {
            "tags": []
          },
          "execution_count": 1
        }
      ]
    },
    {
      "metadata": {
        "id": "0KGLcxdsPUmI",
        "colab_type": "text"
      },
      "cell_type": "markdown",
      "source": [
        "## 绘制图形\n",
        "绘制常用的激活函数图形"
      ]
    },
    {
      "metadata": {
        "id": "v4ctqLBbbhX-",
        "colab_type": "code",
        "colab": {
          "base_uri": "https://localhost:8080/",
          "height": 351
        },
        "outputId": "195a4b98-7e8d-4da7-b071-481d1e653419"
      },
      "cell_type": "code",
      "source": [
        "#!/usr/bin/python\n",
        "import matplotlib.pyplot as plt\n",
        "import numpy as np\n",
        "import math\n",
        "\n",
        "def sigmod(x):\n",
        "    return 1.0/(1.0+np.exp(-x))\n",
        "\n",
        "def tanh(x):\n",
        "    y = np.tanh(x)\n",
        "    return y\n",
        "\n",
        "def relu(x):\n",
        "    y = x.copy()\n",
        "    y[y<0]=0\n",
        "    return y\n",
        "\n",
        "x = np.arange(-50.0,50.0,0.1)\n",
        "y_relu = relu(x)\n",
        "y_sigmod = sigmod(x)\n",
        "y_tanh = tanh(x)\n",
        "\n",
        "plt.plot(x,y_relu,c='r',label=\"Relu\",linestyle='--')\n",
        "plt.plot(x,y_sigmod,c='g',label=\"Sigmod\",linestyle='-.')\n",
        "plt.plot(x,y_tanh,c='b',label=\"Tanh\")\n",
        "plt.ylim([-1,4])\n",
        "plt.xlim([-4,4])\n",
        "plt.legend(loc=2)\n",
        "plt.savefig('sig_tan_relu.png')\n",
        "plt.show()"
      ],
      "execution_count": 1,
      "outputs": [
        {
          "output_type": "display_data",
          "data": {
            "image/png": "[encoded data removed]",
            "text/plain": [
              "<matplotlib.figure.Figure at 0x7fb97cce5b38>"
            ]
          },
          "metadata": {
            "tags": []
          }
        }
      ]
    }
  ]
}